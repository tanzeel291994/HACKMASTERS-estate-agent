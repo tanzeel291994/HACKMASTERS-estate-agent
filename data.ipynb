{
 "cells": [
  {
   "cell_type": "code",
   "execution_count": 4,
   "metadata": {},
   "outputs": [],
   "source": [
    "import undetected_chromedriver as uc\n",
    "from selenium.webdriver.common.by import By\n",
    "from selenium.webdriver.support.ui import WebDriverWait\n",
    "from selenium.webdriver.support import expected_conditions as EC\n",
    "import pandas as pd"
   ]
  },
  {
   "cell_type": "code",
   "execution_count": 16,
   "metadata": {},
   "outputs": [],
   "source": [
    "options = uc.ChromeOptions()\n",
    "options.headless = True  # Run in headless mode\n",
    "driver = uc.Chrome(options=options)\n",
    "headers = []"
   ]
  },
  {
   "cell_type": "code",
   "execution_count": 17,
   "metadata": {},
   "outputs": [
    {
     "name": "stdout",
     "output_type": "stream",
     "text": [
      "processing page: 1\n",
      "processing page: 2\n",
      "processing page: 3\n",
      "processing page: 4\n",
      "processing page: 5\n",
      "processing page: 6\n",
      "processing page: 7\n",
      "processing page: 8\n",
      "processing page: 9\n",
      "processing page: 10\n",
      "processing page: 11\n",
      "processing page: 12\n",
      "processing page: 13\n",
      "processing page: 14\n",
      "processing page: 15\n",
      "processing page: 16\n",
      "processing page: 17\n",
      "processing page: 18\n",
      "processing page: 19\n",
      "processing page: 20\n"
     ]
    }
   ],
   "source": [
    "url = \"https://www.bayut.com/property-market-analysis/rent/apartments/dubai/dubai-marina/\"\n",
    "rows =[]\n",
    "for pageNum in range(1,21):\n",
    "    modified_url=\"\"\n",
    "    print(f\"processing page: {pageNum}\")\n",
    "    if pageNum == 1:\n",
    "        modified_url = url\n",
    "\n",
    "    else:\n",
    "        modified_url = f\"{url}?page={pageNum}\"\n",
    "\n",
    "    driver.get(modified_url)\n",
    "    wait = WebDriverWait(driver, 20)\n",
    "    table = wait.until(EC.presence_of_element_located((By.CSS_SELECTOR, 'table')))\n",
    "    if pageNum == 1:      \n",
    "        #changed index value of tr from 1 to 0\n",
    "        for header in table.find_elements(By.TAG_NAME, \"thead\")[0].find_elements(By.TAG_NAME, \"tr\")[0].find_elements(By.TAG_NAME, \"th\"):\n",
    "            headers.append(header.text)    \n",
    "        headers[3] ='Type'\n",
    "        headers[4] ='Beds'    \n",
    "    else :\n",
    "        for row in table.find_element(By.TAG_NAME, \"tbody\").find_elements(By.TAG_NAME, \"tr\"):\n",
    "            row_data = []\n",
    "            for cell in row.find_elements(By.TAG_NAME, \"td\"):\n",
    "                type_div = cell.find_elements(By.CSS_SELECTOR, \"div[aria-label='Type']\")\n",
    "                beds_div = cell.find_elements(By.CSS_SELECTOR, \"div[aria-label='Beds']\")\n",
    "                if type_div:\n",
    "                    cell_text = type_div[0].get_attribute('innerHTML')\n",
    "                elif beds_div:\n",
    "                    cell_text = beds_div[0].get_attribute('innerHTML')\n",
    "                else:\n",
    "                    cell_text = cell.text\n",
    "                row_data.append(cell_text.strip())\n",
    "            if row_data:\n",
    "                rows.append(row_data)"
   ]
  },
  {
   "cell_type": "code",
   "execution_count": 18,
   "metadata": {},
   "outputs": [],
   "source": [
    "df = pd.DataFrame(rows, columns=headers)\n",
    "df.to_csv('bayut_transactions_rent_dubai_marina_last12_20_page.csv', index=False)"
   ]
  },
  {
   "cell_type": "code",
   "execution_count": 19,
   "metadata": {},
   "outputs": [
    {
     "data": {
      "text/html": [
       "<div>\n",
       "<style scoped>\n",
       "    .dataframe tbody tr th:only-of-type {\n",
       "        vertical-align: middle;\n",
       "    }\n",
       "\n",
       "    .dataframe tbody tr th {\n",
       "        vertical-align: top;\n",
       "    }\n",
       "\n",
       "    .dataframe thead th {\n",
       "        text-align: right;\n",
       "    }\n",
       "</style>\n",
       "<table border=\"1\" class=\"dataframe\">\n",
       "  <thead>\n",
       "    <tr style=\"text-align: right;\">\n",
       "      <th></th>\n",
       "      <th>START DATE</th>\n",
       "      <th>LOCATION</th>\n",
       "      <th>DURATION</th>\n",
       "      <th>Type</th>\n",
       "      <th>Beds</th>\n",
       "      <th>BEDS</th>\n",
       "      <th>AREA (SQFT)</th>\n",
       "      <th>FLOOR</th>\n",
       "    </tr>\n",
       "  </thead>\n",
       "  <tbody>\n",
       "    <tr>\n",
       "      <th>0</th>\n",
       "      <td>1 Jun\\n2025</td>\n",
       "      <td>Dream Tower 2\\nDubai Marina\\nDream Towers</td>\n",
       "      <td>12 months\\nRENEWAL</td>\n",
       "      <td>65,000</td>\n",
       "      <td>Apartment</td>\n",
       "      <td>2</td>\n",
       "      <td>869</td>\n",
       "      <td>4</td>\n",
       "    </tr>\n",
       "    <tr>\n",
       "      <th>1</th>\n",
       "      <td>1 Jun\\n2025</td>\n",
       "      <td>Al Majara 3\\nDubai Marina\\nAl Majara</td>\n",
       "      <td>12 months\\nRENEWAL</td>\n",
       "      <td>110,000</td>\n",
       "      <td>Apartment</td>\n",
       "      <td>1</td>\n",
       "      <td>869</td>\n",
       "      <td>6</td>\n",
       "    </tr>\n",
       "  </tbody>\n",
       "</table>\n",
       "</div>"
      ],
      "text/plain": [
       "    START DATE                                   LOCATION            DURATION  \\\n",
       "0  1 Jun\\n2025  Dream Tower 2\\nDubai Marina\\nDream Towers  12 months\\nRENEWAL   \n",
       "1  1 Jun\\n2025       Al Majara 3\\nDubai Marina\\nAl Majara  12 months\\nRENEWAL   \n",
       "\n",
       "      Type       Beds BEDS AREA (SQFT) FLOOR  \n",
       "0   65,000  Apartment    2         869     4  \n",
       "1  110,000  Apartment    1         869     6  "
      ]
     },
     "execution_count": 19,
     "metadata": {},
     "output_type": "execute_result"
    }
   ],
   "source": [
    "df.head(2)"
   ]
  },
  {
   "cell_type": "code",
   "execution_count": null,
   "metadata": {},
   "outputs": [],
   "source": []
  }
 ],
 "metadata": {
  "kernelspec": {
   "display_name": "newenv",
   "language": "python",
   "name": "python3"
  },
  "language_info": {
   "codemirror_mode": {
    "name": "ipython",
    "version": 3
   },
   "file_extension": ".py",
   "mimetype": "text/x-python",
   "name": "python",
   "nbconvert_exporter": "python",
   "pygments_lexer": "ipython3",
   "version": "3.12.0"
  }
 },
 "nbformat": 4,
 "nbformat_minor": 2
}
