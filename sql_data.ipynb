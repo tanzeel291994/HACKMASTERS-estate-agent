{
 "cells": [
  {
   "cell_type": "code",
   "execution_count": 1,
   "metadata": {},
   "outputs": [],
   "source": [
    "import pandas as pd"
   ]
  },
  {
   "cell_type": "code",
   "execution_count": 2,
   "metadata": {},
   "outputs": [],
   "source": [
    "df_listing_rent = pd.read_csv(\"raw_data/bayut_listing_rent.csv\")\n",
    "df_listing_rent_marina = pd.read_csv(\"raw_data/bayut_listing_rent_dubai_marina.csv\")\n",
    "df_listing_sales_apartments = pd.read_csv(\"raw_data/bayut_listing_sales_apartments.csv\")\n",
    "df_listing_sales_marina = pd.read_csv(\"raw_data/bayut_listing_sales_dubai_marina.csv\")\n",
    "df_listing_sales_townhouses = pd.read_csv(\"raw_data/bayut_listing_sales_townhouses.csv\")\n",
    "df_listing_sales_villas = pd.read_csv(\"raw_data/bayut_listing_sales_villas.csv\")\n"
   ]
  },
  {
   "cell_type": "code",
   "execution_count": 3,
   "metadata": {},
   "outputs": [],
   "source": [
    "df_transactions_sales_marina = pd.read_csv(\"raw_data/bayut_transactions_buy_dubai_marina_last12_20_page.csv\")\n",
    "df_transactions_sales_1 = pd.read_csv(\"raw_data/bayut_transactions_buy_last12_49_page.csv\")\n",
    "df_transactions_sales_2 = pd.read_csv(\"raw_data/bayut_transactions_buy_last12_50_page.csv\")\n",
    "df_transactions_rent_marina = pd.read_csv(\"raw_data/bayut_transactions_rent_dubai_marina_last12_20_page.csv\")"
   ]
  },
  {
   "cell_type": "code",
   "execution_count": 4,
   "metadata": {},
   "outputs": [
    {
     "data": {
      "text/plain": [
       "(168, 14)"
      ]
     },
     "execution_count": 4,
     "metadata": {},
     "output_type": "execute_result"
    }
   ],
   "source": [
    "df_listing_rent.shape"
   ]
  },
  {
   "cell_type": "code",
   "execution_count": null,
   "metadata": {},
   "outputs": [
    {
     "data": {
      "text/html": [
       "<div>\n",
       "<style scoped>\n",
       "    .dataframe tbody tr th:only-of-type {\n",
       "        vertical-align: middle;\n",
       "    }\n",
       "\n",
       "    .dataframe tbody tr th {\n",
       "        vertical-align: top;\n",
       "    }\n",
       "\n",
       "    .dataframe thead th {\n",
       "        text-align: right;\n",
       "    }\n",
       "</style>\n",
       "<table border=\"1\" class=\"dataframe\">\n",
       "  <thead>\n",
       "    <tr style=\"text-align: right;\">\n",
       "      <th></th>\n",
       "      <th>START DATE</th>\n",
       "      <th>LOCATION</th>\n",
       "      <th>DURATION</th>\n",
       "      <th>Type</th>\n",
       "      <th>Beds</th>\n",
       "      <th>BEDS</th>\n",
       "      <th>AREA (SQFT)</th>\n",
       "      <th>FLOOR</th>\n",
       "    </tr>\n",
       "  </thead>\n",
       "  <tbody>\n",
       "    <tr>\n",
       "      <th>0</th>\n",
       "      <td>1 Jun\\n2025</td>\n",
       "      <td>Dream Tower 2\\nDubai Marina\\nDream Towers</td>\n",
       "      <td>12 months\\nRENEWAL</td>\n",
       "      <td>65,000</td>\n",
       "      <td>Apartment</td>\n",
       "      <td>2</td>\n",
       "      <td>869</td>\n",
       "      <td>4</td>\n",
       "    </tr>\n",
       "  </tbody>\n",
       "</table>\n",
       "</div>"
      ],
      "text/plain": [
       "    START DATE                                   LOCATION            DURATION  \\\n",
       "0  1 Jun\\n2025  Dream Tower 2\\nDubai Marina\\nDream Towers  12 months\\nRENEWAL   \n",
       "\n",
       "     Type       Beds BEDS AREA (SQFT) FLOOR  \n",
       "0  65,000  Apartment    2         869     4  "
      ]
     },
     "execution_count": 5,
     "metadata": {},
     "output_type": "execute_result"
    }
   ],
   "source": [
    "df_transactions_rent_marina.head(1)"
   ]
  },
  {
   "cell_type": "code",
   "execution_count": 6,
   "metadata": {},
   "outputs": [],
   "source": [
    "df_transactions_rent_marina = df_transactions_rent_marina.rename(columns={\n",
    "    'Type': 'Price',  # Rename price column to match rent dataframe\n",
    "    'Beds': 'Type'  # Rename area column to match rent dataframe\n",
    "})\n"
   ]
  },
  {
   "cell_type": "code",
   "execution_count": 7,
   "metadata": {},
   "outputs": [
    {
     "data": {
      "text/html": [
       "<div>\n",
       "<style scoped>\n",
       "    .dataframe tbody tr th:only-of-type {\n",
       "        vertical-align: middle;\n",
       "    }\n",
       "\n",
       "    .dataframe tbody tr th {\n",
       "        vertical-align: top;\n",
       "    }\n",
       "\n",
       "    .dataframe thead th {\n",
       "        text-align: right;\n",
       "    }\n",
       "</style>\n",
       "<table border=\"1\" class=\"dataframe\">\n",
       "  <thead>\n",
       "    <tr style=\"text-align: right;\">\n",
       "      <th></th>\n",
       "      <th>DATE</th>\n",
       "      <th>LOCATION</th>\n",
       "      <th>PRICE (AED)</th>\n",
       "      <th>Type</th>\n",
       "      <th>Beds</th>\n",
       "      <th>BUILT-UP AREA</th>\n",
       "      <th>FLOOR</th>\n",
       "    </tr>\n",
       "  </thead>\n",
       "  <tbody>\n",
       "    <tr>\n",
       "      <th>0</th>\n",
       "      <td>18 Apr\\n2025</td>\n",
       "      <td>The Torch\\nDubai Marina</td>\n",
       "      <td>1,680,000\\nVacant at time of sale</td>\n",
       "      <td>Apartment</td>\n",
       "      <td>2</td>\n",
       "      <td>1,258</td>\n",
       "      <td>39</td>\n",
       "    </tr>\n",
       "  </tbody>\n",
       "</table>\n",
       "</div>"
      ],
      "text/plain": [
       "           DATE                 LOCATION                        PRICE (AED)  \\\n",
       "0  18 Apr\\n2025  The Torch\\nDubai Marina  1,680,000\\nVacant at time of sale   \n",
       "\n",
       "        Type Beds BUILT-UP AREA FLOOR  \n",
       "0  Apartment    2         1,258    39  "
      ]
     },
     "execution_count": 7,
     "metadata": {},
     "output_type": "execute_result"
    }
   ],
   "source": [
    "df_transactions_sales_marina.head(1)"
   ]
  },
  {
   "cell_type": "code",
   "execution_count": 8,
   "metadata": {},
   "outputs": [],
   "source": [
    "df_listing_rent_merged = pd.concat([df_listing_rent, df_listing_rent_marina], ignore_index=True)\n",
    "df_listing_buy_merged = pd.concat([df_listing_sales_apartments, df_listing_sales_marina,df_listing_sales_townhouses,df_listing_sales_villas], ignore_index=True)\n",
    "\n",
    "df_transactions_rent_merged = pd.concat([df_transactions_rent_marina], ignore_index=True)\n",
    "df_transactions_buy_merged = pd.concat([df_transactions_sales_marina, df_transactions_sales_1,df_transactions_sales_2], ignore_index=True)"
   ]
  },
  {
   "cell_type": "code",
   "execution_count": 9,
   "metadata": {},
   "outputs": [],
   "source": [
    "df_listing_rent_merged = df_listing_rent_merged.drop_duplicates(subset=['price','type','location'])\n",
    "df_listing_buy_merged = df_listing_buy_merged.drop_duplicates(subset=['price','type','location'])\n",
    "\n",
    "df_transactions_rent_merged = df_transactions_rent_merged.drop_duplicates(subset=['Type','LOCATION','FLOOR'])\n",
    "df_transactions_buy_merged = df_transactions_buy_merged.drop_duplicates(subset=['Type','LOCATION','FLOOR'])"
   ]
  },
  {
   "cell_type": "code",
   "execution_count": 10,
   "metadata": {},
   "outputs": [
    {
     "name": "stdout",
     "output_type": "stream",
     "text": [
      "Listing of rents (299, 14)\n",
      "Listing of buy (1468, 14)\n",
      "Transactions of rents (356, 8)\n",
      "Transaction of buy (928, 9)\n"
     ]
    }
   ],
   "source": [
    "print(\"Listing of rents\",df_listing_rent_merged.shape)\n",
    "print(\"Listing of buy\",df_listing_buy_merged.shape)\n",
    "\n",
    "print(\"Transactions of rents\",df_transactions_rent_merged.shape)\n",
    "print(\"Transaction of buy\",df_transactions_buy_merged.shape)"
   ]
  },
  {
   "cell_type": "code",
   "execution_count": 11,
   "metadata": {},
   "outputs": [
    {
     "data": {
      "text/html": [
       "<div>\n",
       "<style scoped>\n",
       "    .dataframe tbody tr th:only-of-type {\n",
       "        vertical-align: middle;\n",
       "    }\n",
       "\n",
       "    .dataframe tbody tr th {\n",
       "        vertical-align: top;\n",
       "    }\n",
       "\n",
       "    .dataframe thead th {\n",
       "        text-align: right;\n",
       "    }\n",
       "</style>\n",
       "<table border=\"1\" class=\"dataframe\">\n",
       "  <thead>\n",
       "    <tr style=\"text-align: right;\">\n",
       "      <th></th>\n",
       "      <th>START DATE</th>\n",
       "      <th>LOCATION</th>\n",
       "      <th>DURATION</th>\n",
       "      <th>Price</th>\n",
       "      <th>Type</th>\n",
       "      <th>BEDS</th>\n",
       "      <th>AREA (SQFT)</th>\n",
       "      <th>FLOOR</th>\n",
       "    </tr>\n",
       "  </thead>\n",
       "  <tbody>\n",
       "    <tr>\n",
       "      <th>0</th>\n",
       "      <td>1 Jun\\n2025</td>\n",
       "      <td>Dream Tower 2\\nDubai Marina\\nDream Towers</td>\n",
       "      <td>12 months\\nRENEWAL</td>\n",
       "      <td>65,000</td>\n",
       "      <td>Apartment</td>\n",
       "      <td>2</td>\n",
       "      <td>869</td>\n",
       "      <td>4</td>\n",
       "    </tr>\n",
       "  </tbody>\n",
       "</table>\n",
       "</div>"
      ],
      "text/plain": [
       "    START DATE                                   LOCATION            DURATION  \\\n",
       "0  1 Jun\\n2025  Dream Tower 2\\nDubai Marina\\nDream Towers  12 months\\nRENEWAL   \n",
       "\n",
       "    Price       Type BEDS AREA (SQFT) FLOOR  \n",
       "0  65,000  Apartment    2         869     4  "
      ]
     },
     "execution_count": 11,
     "metadata": {},
     "output_type": "execute_result"
    }
   ],
   "source": [
    "df_transactions_rent_merged.head(1)"
   ]
  },
  {
   "cell_type": "code",
   "execution_count": 12,
   "metadata": {},
   "outputs": [
    {
     "data": {
      "text/html": [
       "<div>\n",
       "<style scoped>\n",
       "    .dataframe tbody tr th:only-of-type {\n",
       "        vertical-align: middle;\n",
       "    }\n",
       "\n",
       "    .dataframe tbody tr th {\n",
       "        vertical-align: top;\n",
       "    }\n",
       "\n",
       "    .dataframe thead th {\n",
       "        text-align: right;\n",
       "    }\n",
       "</style>\n",
       "<table border=\"1\" class=\"dataframe\">\n",
       "  <thead>\n",
       "    <tr style=\"text-align: right;\">\n",
       "      <th></th>\n",
       "      <th>DATE</th>\n",
       "      <th>LOCATION</th>\n",
       "      <th>PRICE (AED)</th>\n",
       "      <th>Type</th>\n",
       "      <th>Beds</th>\n",
       "      <th>BUILT-UP AREA</th>\n",
       "      <th>FLOOR</th>\n",
       "      <th>BUILT-UP</th>\n",
       "      <th>PLOT</th>\n",
       "    </tr>\n",
       "  </thead>\n",
       "  <tbody>\n",
       "    <tr>\n",
       "      <th>0</th>\n",
       "      <td>18 Apr\\n2025</td>\n",
       "      <td>The Torch\\nDubai Marina</td>\n",
       "      <td>1,680,000\\nVacant at time of sale</td>\n",
       "      <td>Apartment</td>\n",
       "      <td>2</td>\n",
       "      <td>1,258</td>\n",
       "      <td>39</td>\n",
       "      <td>NaN</td>\n",
       "      <td>NaN</td>\n",
       "    </tr>\n",
       "  </tbody>\n",
       "</table>\n",
       "</div>"
      ],
      "text/plain": [
       "           DATE                 LOCATION                        PRICE (AED)  \\\n",
       "0  18 Apr\\n2025  The Torch\\nDubai Marina  1,680,000\\nVacant at time of sale   \n",
       "\n",
       "        Type Beds BUILT-UP AREA FLOOR BUILT-UP PLOT  \n",
       "0  Apartment    2         1,258    39      NaN  NaN  "
      ]
     },
     "execution_count": 12,
     "metadata": {},
     "output_type": "execute_result"
    }
   ],
   "source": [
    "df_transactions_buy_merged.head(1)"
   ]
  },
  {
   "cell_type": "code",
   "execution_count": 13,
   "metadata": {},
   "outputs": [],
   "source": [
    "def process(df):\n",
    "    df[['building_name', 'street_name', 'area_name']] = df['location'].str.split(',', n=2, expand=True)\n",
    "\n",
    "    df['building_name'] = df['building_name'].str.strip()\n",
    "    df['street_name'] = df['street_name'].str.strip()\n",
    "    df['area_name'] = df['area_name'].str.strip()\n",
    "\n",
    "    df['verified_date'] = df['verified_plan'].str.replace('on ', '', regex=False)\n",
    "    df['verified_date'] = pd.to_datetime(df['verified_date'], format='%dst of %B %Y', errors='coerce')\n",
    "    df['area'] = df['area'].str.replace('sqft', '', regex=False)\n",
    "    df.drop(columns=['verified_plan'],inplace=True)\n",
    "    df.drop(columns=['Unnamed: 0'],inplace=True)\n",
    "    df[['location', 'building_name', 'street_name', 'area_name']].head()"
   ]
  },
  {
   "cell_type": "code",
   "execution_count": 14,
   "metadata": {},
   "outputs": [],
   "source": [
    "def process_locations(df):\n",
    "    location_split = df['LOCATION'].str.split('\\n', expand=True)\n",
    "    # If only one column is returned (no split occurred)\n",
    "    if location_split.shape[1] == 1:\n",
    "        df['building_name'] = None\n",
    "        df['area_name'] = location_split[0]\n",
    "    else:\n",
    "        # If we have more than 2 columns, prioritize building_name and area_name\n",
    "        if location_split.shape[1] > 2:\n",
    "            df['building_name'] = location_split[0]\n",
    "            df['area_name'] = location_split[1]\n",
    "        else:\n",
    "            df['building_name'] = location_split[0]\n",
    "            df['area_name'] = location_split[1]"
   ]
  },
  {
   "cell_type": "code",
   "execution_count": 15,
   "metadata": {},
   "outputs": [],
   "source": [
    "process_locations(df_transactions_buy_merged)"
   ]
  },
  {
   "cell_type": "code",
   "execution_count": 16,
   "metadata": {},
   "outputs": [],
   "source": [
    "price_split = df_transactions_buy_merged['PRICE (AED)'].str.split('\\n', expand=True)\n",
    "if price_split.shape[1] == 1:\n",
    "    df_transactions_buy_merged['PRICE'] = price_split[0]\n",
    "else:\n",
    "    df_transactions_buy_merged['PRICE'] = price_split[0]\n",
    "    df_transactions_buy_merged['Info'] = price_split[1]"
   ]
  },
  {
   "cell_type": "code",
   "execution_count": 17,
   "metadata": {},
   "outputs": [],
   "source": [
    "df_transactions_buy_merged.drop(columns=[\"PRICE (AED)\"],inplace=True)"
   ]
  },
  {
   "cell_type": "code",
   "execution_count": 18,
   "metadata": {},
   "outputs": [],
   "source": [
    "df_transactions_buy_merged['DATE'] = df_transactions_buy_merged['DATE'].str.replace('\\n', ' ', regex=False)\n",
    "df_transactions_buy_merged['DATE'] = pd.to_datetime(df_transactions_buy_merged['DATE'], format='%d %b %Y', errors='coerce')"
   ]
  },
  {
   "cell_type": "code",
   "execution_count": 19,
   "metadata": {},
   "outputs": [],
   "source": [
    "process(df_listing_rent_merged)\n",
    "process(df_listing_buy_merged)"
   ]
  },
  {
   "cell_type": "code",
   "execution_count": 20,
   "metadata": {},
   "outputs": [
    {
     "data": {
      "text/html": [
       "<div>\n",
       "<style scoped>\n",
       "    .dataframe tbody tr th:only-of-type {\n",
       "        vertical-align: middle;\n",
       "    }\n",
       "\n",
       "    .dataframe tbody tr th {\n",
       "        vertical-align: top;\n",
       "    }\n",
       "\n",
       "    .dataframe thead th {\n",
       "        text-align: right;\n",
       "    }\n",
       "</style>\n",
       "<table border=\"1\" class=\"dataframe\">\n",
       "  <thead>\n",
       "    <tr style=\"text-align: right;\">\n",
       "      <th></th>\n",
       "      <th>START DATE</th>\n",
       "      <th>LOCATION</th>\n",
       "      <th>DURATION</th>\n",
       "      <th>Price</th>\n",
       "      <th>Type</th>\n",
       "      <th>BEDS</th>\n",
       "      <th>AREA (SQFT)</th>\n",
       "      <th>FLOOR</th>\n",
       "    </tr>\n",
       "  </thead>\n",
       "  <tbody>\n",
       "    <tr>\n",
       "      <th>0</th>\n",
       "      <td>1 Jun\\n2025</td>\n",
       "      <td>Dream Tower 2\\nDubai Marina\\nDream Towers</td>\n",
       "      <td>12 months\\nRENEWAL</td>\n",
       "      <td>65,000</td>\n",
       "      <td>Apartment</td>\n",
       "      <td>2</td>\n",
       "      <td>869</td>\n",
       "      <td>4</td>\n",
       "    </tr>\n",
       "  </tbody>\n",
       "</table>\n",
       "</div>"
      ],
      "text/plain": [
       "    START DATE                                   LOCATION            DURATION  \\\n",
       "0  1 Jun\\n2025  Dream Tower 2\\nDubai Marina\\nDream Towers  12 months\\nRENEWAL   \n",
       "\n",
       "    Price       Type BEDS AREA (SQFT) FLOOR  \n",
       "0  65,000  Apartment    2         869     4  "
      ]
     },
     "execution_count": 20,
     "metadata": {},
     "output_type": "execute_result"
    }
   ],
   "source": [
    "df_transactions_rent_merged.head(1)"
   ]
  },
  {
   "cell_type": "code",
   "execution_count": 21,
   "metadata": {},
   "outputs": [
    {
     "data": {
      "text/plain": [
       "array(['12 months\\nRENEWAL', '12 months\\nNEW', '36 months\\nRENEWAL',\n",
       "       '6 months\\nRENEWAL', '5 months\\nRENEWAL', '13 months\\nRENEWAL',\n",
       "       '2 months\\nRENEWAL', '24 months\\nNEW', '14 months\\nNEW',\n",
       "       '4 months\\nRENEWAL', '3 months\\nNEW', '3 months\\nRENEWAL',\n",
       "       '6 months\\nNEW', '38 months\\nNEW', '13 months\\nNEW',\n",
       "       '36 months\\nNEW', '10 months\\nRENEWAL', '1 months\\nRENEWAL'],\n",
       "      dtype=object)"
      ]
     },
     "execution_count": 21,
     "metadata": {},
     "output_type": "execute_result"
    }
   ],
   "source": [
    "df_transactions_rent_merged[\"DURATION\"].unique()"
   ]
  },
  {
   "cell_type": "code",
   "execution_count": 22,
   "metadata": {},
   "outputs": [],
   "source": [
    "df_transactions_rent_merged['START DATE'] = df_transactions_rent_merged['START DATE'].str.replace('\\n', ' ', regex=False)\n",
    "df_transactions_rent_merged['START DATE'] = pd.to_datetime(df_transactions_rent_merged['START DATE'], format='%d %b %Y', errors='coerce')"
   ]
  },
  {
   "cell_type": "code",
   "execution_count": 23,
   "metadata": {},
   "outputs": [],
   "source": [
    "process_locations(df_transactions_rent_merged)"
   ]
  },
  {
   "cell_type": "code",
   "execution_count": 24,
   "metadata": {},
   "outputs": [],
   "source": [
    "duration_split = df_transactions_rent_merged['DURATION'].str.split('\\n', expand=True)\n",
    "df_transactions_rent_merged['DURATION(Months)'] = duration_split[0].str.replace('months','',regex=False)\n",
    "df_transactions_rent_merged['Info'] = duration_split[1]"
   ]
  },
  {
   "cell_type": "code",
   "execution_count": 25,
   "metadata": {},
   "outputs": [],
   "source": [
    "df_transactions_rent_merged.drop(columns=[\"DURATION\"],inplace=True)"
   ]
  },
  {
   "cell_type": "code",
   "execution_count": 26,
   "metadata": {},
   "outputs": [],
   "source": [
    "h_split = df_listing_buy_merged['handover'].str.split(' ', expand=True)\n",
    "df_listing_buy_merged['handover quater'] = h_split[0]\n",
    "df_listing_buy_merged['handover year'] = h_split[1]"
   ]
  },
  {
   "cell_type": "code",
   "execution_count": 27,
   "metadata": {},
   "outputs": [
    {
     "data": {
      "text/plain": [
       "array(['Off-Plan\\n|\\nInitial Sale', 'Off-Plan', nan,\n",
       "       'Off-Plan\\n|\\nResale'], dtype=object)"
      ]
     },
     "execution_count": 27,
     "metadata": {},
     "output_type": "execute_result"
    }
   ],
   "source": [
    "df_listing_buy_merged[\"offplan\"].unique()"
   ]
  },
  {
   "cell_type": "code",
   "execution_count": 28,
   "metadata": {},
   "outputs": [],
   "source": [
    "o_split = df_listing_buy_merged['offplan'].str.split('|', expand=True)\n",
    "if o_split.shape[1] == 1:\n",
    "    df_listing_buy_merged['offplan type'] = o_split[0].str.replace('\\n','',regex=False)\n",
    "else:\n",
    "    df_listing_buy_merged['offplan type'] = o_split[0].str.replace('\\n','',regex=False)\n",
    "    df_listing_buy_merged['type of sale'] = o_split[1].str.replace('\\n','',regex=False)"
   ]
  },
  {
   "cell_type": "code",
   "execution_count": 29,
   "metadata": {},
   "outputs": [],
   "source": [
    "df_listing_buy_merged.drop(columns=[\"handover\"],inplace=True)"
   ]
  },
  {
   "cell_type": "code",
   "execution_count": 30,
   "metadata": {},
   "outputs": [],
   "source": [
    "df_listing_buy_merged.drop(columns=[\"offplan\"],inplace=True)"
   ]
  },
  {
   "cell_type": "code",
   "execution_count": 31,
   "metadata": {},
   "outputs": [],
   "source": [
    "df_listing_rent_merged.drop(columns=[\"handover\",\"payment\",\"offplan\"],inplace=True)"
   ]
  },
  {
   "cell_type": "code",
   "execution_count": 32,
   "metadata": {},
   "outputs": [],
   "source": [
    "df_listing_rent_merged[\"area_name\"]=df_listing_rent_merged[\"area_name\"].str.replace(\"Dubai\",\"\")\n"
   ]
  },
  {
   "cell_type": "code",
   "execution_count": 33,
   "metadata": {},
   "outputs": [],
   "source": [
    "df_listing_buy_merged[\"area_name\"]=df_listing_buy_merged[\"area_name\"].str.replace(\"Dubai\",\"\")\n",
    "df_listing_buy_merged[\"area_name\"] = df_listing_buy_merged[\"area_name\"].str.replace(r',\\s*$', '', regex=True)"
   ]
  },
  {
   "cell_type": "code",
   "execution_count": 34,
   "metadata": {},
   "outputs": [],
   "source": [
    "df_listing_rent_merged[\"area_name\"] = df_listing_rent_merged[\"area_name\"].str.replace(r',\\s*$', '', regex=True)"
   ]
  },
  {
   "cell_type": "code",
   "execution_count": null,
   "metadata": {},
   "outputs": [
    {
     "data": {
      "text/html": [
       "<div>\n",
       "<style scoped>\n",
       "    .dataframe tbody tr th:only-of-type {\n",
       "        vertical-align: middle;\n",
       "    }\n",
       "\n",
       "    .dataframe tbody tr th {\n",
       "        vertical-align: top;\n",
       "    }\n",
       "\n",
       "    .dataframe thead th {\n",
       "        text-align: right;\n",
       "    }\n",
       "</style>\n",
       "<table border=\"1\" class=\"dataframe\">\n",
       "  <thead>\n",
       "    <tr style=\"text-align: right;\">\n",
       "      <th></th>\n",
       "      <th>title</th>\n",
       "      <th>price</th>\n",
       "      <th>type</th>\n",
       "      <th>beds</th>\n",
       "      <th>studio</th>\n",
       "      <th>baths</th>\n",
       "      <th>area</th>\n",
       "      <th>location</th>\n",
       "      <th>agent_plan</th>\n",
       "      <th>building_name</th>\n",
       "      <th>street_name</th>\n",
       "      <th>area_name</th>\n",
       "      <th>verified_date</th>\n",
       "    </tr>\n",
       "  </thead>\n",
       "  <tbody>\n",
       "    <tr>\n",
       "      <th>0</th>\n",
       "      <td>PRIME LOCATION | VACANT | MODERN LAYOUT</td>\n",
       "      <td>68,000</td>\n",
       "      <td>Apartment</td>\n",
       "      <td>1.0</td>\n",
       "      <td>NaN</td>\n",
       "      <td>2</td>\n",
       "      <td>731</td>\n",
       "      <td>AKA Residence, JVC District 11, Jumeirah Villa...</td>\n",
       "      <td>TruBroker™</td>\n",
       "      <td>AKA Residence</td>\n",
       "      <td>JVC District 11</td>\n",
       "      <td>Jumeirah Village Circle (JVC)</td>\n",
       "      <td>2025-04-21</td>\n",
       "    </tr>\n",
       "  </tbody>\n",
       "</table>\n",
       "</div>"
      ],
      "text/plain": [
       "                                     title   price       type  beds studio  \\\n",
       "0  PRIME LOCATION | VACANT | MODERN LAYOUT  68,000  Apartment   1.0    NaN   \n",
       "\n",
       "   baths  area                                           location  agent_plan  \\\n",
       "0      2  731   AKA Residence, JVC District 11, Jumeirah Villa...  TruBroker™   \n",
       "\n",
       "   building_name      street_name                      area_name verified_date  \n",
       "0  AKA Residence  JVC District 11  Jumeirah Village Circle (JVC)    2025-04-21  "
      ]
     },
     "execution_count": 35,
     "metadata": {},
     "output_type": "execute_result"
    }
   ],
   "source": [
    "df_listing_rent_merged.head(1)"
   ]
  },
  {
   "cell_type": "code",
   "execution_count": null,
   "metadata": {},
   "outputs": [
    {
     "data": {
      "text/html": [
       "<div>\n",
       "<style scoped>\n",
       "    .dataframe tbody tr th:only-of-type {\n",
       "        vertical-align: middle;\n",
       "    }\n",
       "\n",
       "    .dataframe tbody tr th {\n",
       "        vertical-align: top;\n",
       "    }\n",
       "\n",
       "    .dataframe thead th {\n",
       "        text-align: right;\n",
       "    }\n",
       "</style>\n",
       "<table border=\"1\" class=\"dataframe\">\n",
       "  <thead>\n",
       "    <tr style=\"text-align: right;\">\n",
       "      <th></th>\n",
       "      <th>title</th>\n",
       "      <th>price</th>\n",
       "      <th>type</th>\n",
       "      <th>beds</th>\n",
       "      <th>studio</th>\n",
       "      <th>baths</th>\n",
       "      <th>area</th>\n",
       "      <th>location</th>\n",
       "      <th>payment</th>\n",
       "      <th>agent_plan</th>\n",
       "      <th>building_name</th>\n",
       "      <th>street_name</th>\n",
       "      <th>area_name</th>\n",
       "      <th>verified_date</th>\n",
       "      <th>handover quater</th>\n",
       "      <th>handover year</th>\n",
       "      <th>offplan type</th>\n",
       "      <th>type of sale</th>\n",
       "    </tr>\n",
       "  </thead>\n",
       "  <tbody>\n",
       "    <tr>\n",
       "      <th>0</th>\n",
       "      <td>Sheikh Zayed Road View | 🏗️ Limited Availabili...</td>\n",
       "      <td>565,000</td>\n",
       "      <td>Apartment</td>\n",
       "      <td>NaN</td>\n",
       "      <td>Studio</td>\n",
       "      <td>1</td>\n",
       "      <td>358</td>\n",
       "      <td>Azizi Arian, Downtown Jebel Ali, Jebel Ali, Dubai</td>\n",
       "      <td>50/50</td>\n",
       "      <td>NaN</td>\n",
       "      <td>Azizi Arian</td>\n",
       "      <td>Downtown Jebel Ali</td>\n",
       "      <td>Jebel Ali</td>\n",
       "      <td>NaT</td>\n",
       "      <td>Q1</td>\n",
       "      <td>2028</td>\n",
       "      <td>Off-Plan</td>\n",
       "      <td>Initial Sale</td>\n",
       "    </tr>\n",
       "  </tbody>\n",
       "</table>\n",
       "</div>"
      ],
      "text/plain": [
       "                                               title    price       type  \\\n",
       "0  Sheikh Zayed Road View | 🏗️ Limited Availabili...  565,000  Apartment   \n",
       "\n",
       "   beds  studio  baths  area  \\\n",
       "0   NaN  Studio      1  358    \n",
       "\n",
       "                                            location payment agent_plan  \\\n",
       "0  Azizi Arian, Downtown Jebel Ali, Jebel Ali, Dubai   50/50        NaN   \n",
       "\n",
       "  building_name         street_name  area_name verified_date handover quater  \\\n",
       "0   Azizi Arian  Downtown Jebel Ali  Jebel Ali           NaT              Q1   \n",
       "\n",
       "  handover year offplan type  type of sale  \n",
       "0          2028     Off-Plan  Initial Sale  "
      ]
     },
     "execution_count": 36,
     "metadata": {},
     "output_type": "execute_result"
    }
   ],
   "source": [
    "df_listing_buy_merged.head(1)"
   ]
  },
  {
   "cell_type": "code",
   "execution_count": 37,
   "metadata": {},
   "outputs": [
    {
     "data": {
      "text/html": [
       "<div>\n",
       "<style scoped>\n",
       "    .dataframe tbody tr th:only-of-type {\n",
       "        vertical-align: middle;\n",
       "    }\n",
       "\n",
       "    .dataframe tbody tr th {\n",
       "        vertical-align: top;\n",
       "    }\n",
       "\n",
       "    .dataframe thead th {\n",
       "        text-align: right;\n",
       "    }\n",
       "</style>\n",
       "<table border=\"1\" class=\"dataframe\">\n",
       "  <thead>\n",
       "    <tr style=\"text-align: right;\">\n",
       "      <th></th>\n",
       "      <th>START DATE</th>\n",
       "      <th>LOCATION</th>\n",
       "      <th>Price</th>\n",
       "      <th>Type</th>\n",
       "      <th>BEDS</th>\n",
       "      <th>AREA (SQFT)</th>\n",
       "      <th>FLOOR</th>\n",
       "      <th>building_name</th>\n",
       "      <th>area_name</th>\n",
       "      <th>DURATION(Months)</th>\n",
       "      <th>Info</th>\n",
       "    </tr>\n",
       "  </thead>\n",
       "  <tbody>\n",
       "    <tr>\n",
       "      <th>0</th>\n",
       "      <td>2025-06-01</td>\n",
       "      <td>Dream Tower 2\\nDubai Marina\\nDream Towers</td>\n",
       "      <td>65,000</td>\n",
       "      <td>Apartment</td>\n",
       "      <td>2</td>\n",
       "      <td>869</td>\n",
       "      <td>4</td>\n",
       "      <td>Dream Tower 2</td>\n",
       "      <td>Dubai Marina</td>\n",
       "      <td>12</td>\n",
       "      <td>RENEWAL</td>\n",
       "    </tr>\n",
       "  </tbody>\n",
       "</table>\n",
       "</div>"
      ],
      "text/plain": [
       "  START DATE                                   LOCATION   Price       Type  \\\n",
       "0 2025-06-01  Dream Tower 2\\nDubai Marina\\nDream Towers  65,000  Apartment   \n",
       "\n",
       "  BEDS AREA (SQFT) FLOOR  building_name     area_name DURATION(Months)  \\\n",
       "0    2         869     4  Dream Tower 2  Dubai Marina              12    \n",
       "\n",
       "      Info  \n",
       "0  RENEWAL  "
      ]
     },
     "execution_count": 37,
     "metadata": {},
     "output_type": "execute_result"
    }
   ],
   "source": [
    "df_transactions_rent_merged.head(1)"
   ]
  },
  {
   "cell_type": "code",
   "execution_count": 38,
   "metadata": {},
   "outputs": [
    {
     "data": {
      "text/html": [
       "<div>\n",
       "<style scoped>\n",
       "    .dataframe tbody tr th:only-of-type {\n",
       "        vertical-align: middle;\n",
       "    }\n",
       "\n",
       "    .dataframe tbody tr th {\n",
       "        vertical-align: top;\n",
       "    }\n",
       "\n",
       "    .dataframe thead th {\n",
       "        text-align: right;\n",
       "    }\n",
       "</style>\n",
       "<table border=\"1\" class=\"dataframe\">\n",
       "  <thead>\n",
       "    <tr style=\"text-align: right;\">\n",
       "      <th></th>\n",
       "      <th>DATE</th>\n",
       "      <th>LOCATION</th>\n",
       "      <th>Type</th>\n",
       "      <th>Beds</th>\n",
       "      <th>BUILT-UP AREA</th>\n",
       "      <th>FLOOR</th>\n",
       "      <th>BUILT-UP</th>\n",
       "      <th>PLOT</th>\n",
       "      <th>building_name</th>\n",
       "      <th>area_name</th>\n",
       "      <th>PRICE</th>\n",
       "      <th>Info</th>\n",
       "    </tr>\n",
       "  </thead>\n",
       "  <tbody>\n",
       "    <tr>\n",
       "      <th>0</th>\n",
       "      <td>2025-04-18</td>\n",
       "      <td>The Torch\\nDubai Marina</td>\n",
       "      <td>Apartment</td>\n",
       "      <td>2</td>\n",
       "      <td>1,258</td>\n",
       "      <td>39</td>\n",
       "      <td>NaN</td>\n",
       "      <td>NaN</td>\n",
       "      <td>The Torch</td>\n",
       "      <td>Dubai Marina</td>\n",
       "      <td>1,680,000</td>\n",
       "      <td>Vacant at time of sale</td>\n",
       "    </tr>\n",
       "  </tbody>\n",
       "</table>\n",
       "</div>"
      ],
      "text/plain": [
       "        DATE                 LOCATION       Type Beds BUILT-UP AREA FLOOR  \\\n",
       "0 2025-04-18  The Torch\\nDubai Marina  Apartment    2         1,258    39   \n",
       "\n",
       "  BUILT-UP PLOT building_name     area_name      PRICE                    Info  \n",
       "0      NaN  NaN     The Torch  Dubai Marina  1,680,000  Vacant at time of sale  "
      ]
     },
     "execution_count": 38,
     "metadata": {},
     "output_type": "execute_result"
    }
   ],
   "source": [
    "df_transactions_buy_merged.head(1)"
   ]
  },
  {
   "cell_type": "code",
   "execution_count": 39,
   "metadata": {},
   "outputs": [],
   "source": [
    "df_listing_buy_merged = df_listing_buy_merged.copy()\n",
    "df_listing_rent_merged = df_listing_rent_merged.copy()\n",
    "df_transactions_buy_merged = df_transactions_buy_merged.copy()\n",
    "df_transactions_rent_merged = df_transactions_rent_merged.copy()\n",
    "# Connect to a database (using SQLite for simplicity)\n",
    "import sqlite3\n",
    "conn = sqlite3.connect('real_estate.db')\n",
    "\n",
    "# Write the DataFrame to a SQL table\n",
    "df_listing_buy_merged.to_sql('listings_buy', conn, if_exists='replace', index=False)\n",
    "df_listing_rent_merged.to_sql('listings_rent', conn, if_exists='replace', index=False)\n",
    "df_transactions_buy_merged.to_sql('transactions_buy', conn, if_exists='replace', index=False)\n",
    "df_transactions_rent_merged.to_sql('transactions_rent', conn, if_exists='replace', index=False)\n",
    "\n",
    "# Verify the table was created\n",
    "#query = \"SELECT name FROM sqlite_master WHERE type='table';\"\n",
    "#pd.read_sql(query, conn)\n",
    "\n",
    "# Preview the data in the SQL table\n",
    "#pd.read_sql(\"SELECT * FROM listings_buy LIMIT 5\", conn)\n",
    "\n",
    "# Close the connection\n",
    "conn.close()"
   ]
  },
  {
   "cell_type": "code",
   "execution_count": 8,
   "metadata": {},
   "outputs": [],
   "source": [
    "import sqlite3\n",
    "\n",
    "conn = sqlite3.connect('real_estate.db')\n",
    "\n",
    "pd.read_sql(\"SELECT title, price, building_name, REPLACE(area_name, 'Dubai', '') AS area_name FROM listings_rent;\", conn)\n",
    "#\n",
    "conn.close()"
   ]
  },
  {
   "cell_type": "code",
   "execution_count": 46,
   "metadata": {},
   "outputs": [
    {
     "data": {
      "text/html": [
       "<div>\n",
       "<style scoped>\n",
       "    .dataframe tbody tr th:only-of-type {\n",
       "        vertical-align: middle;\n",
       "    }\n",
       "\n",
       "    .dataframe tbody tr th {\n",
       "        vertical-align: top;\n",
       "    }\n",
       "\n",
       "    .dataframe thead th {\n",
       "        text-align: right;\n",
       "    }\n",
       "</style>\n",
       "<table border=\"1\" class=\"dataframe\">\n",
       "  <thead>\n",
       "    <tr style=\"text-align: right;\">\n",
       "      <th></th>\n",
       "      <th>title</th>\n",
       "      <th>price</th>\n",
       "      <th>building_name</th>\n",
       "      <th>area_name</th>\n",
       "    </tr>\n",
       "  </thead>\n",
       "  <tbody>\n",
       "    <tr>\n",
       "      <th>0</th>\n",
       "      <td>Sheikh Zayed Road View | 🏗️ Limited Availabili...</td>\n",
       "      <td>565,000</td>\n",
       "      <td>Azizi Arian</td>\n",
       "      <td>Jebel Ali</td>\n",
       "    </tr>\n",
       "    <tr>\n",
       "      <th>1</th>\n",
       "      <td>💫30/70 Plan | Furnished🛋️ Smart Home 🚧2026 Han...</td>\n",
       "      <td>935,000</td>\n",
       "      <td>Forest City Tower</td>\n",
       "      <td></td>\n",
       "    </tr>\n",
       "    <tr>\n",
       "      <th>2</th>\n",
       "      <td>🚇 Right next to Metro💰Lowest Price Ever 💳 Best...</td>\n",
       "      <td>599,000</td>\n",
       "      <td>Azizi Arian</td>\n",
       "      <td>Jebel Ali</td>\n",
       "    </tr>\n",
       "    <tr>\n",
       "      <th>3</th>\n",
       "      <td>Payment Plan | Large Layout | Golf Course</td>\n",
       "      <td>5,200,000</td>\n",
       "      <td>399 Hills Park B</td>\n",
       "      <td>Hills Estate</td>\n",
       "    </tr>\n",
       "    <tr>\n",
       "      <th>4</th>\n",
       "      <td>Vacant on Transfer | Fully Upgraded | Palm Views</td>\n",
       "      <td>2,875,000</td>\n",
       "      <td>Princess Tower</td>\n",
       "      <td></td>\n",
       "    </tr>\n",
       "    <tr>\n",
       "      <th>...</th>\n",
       "      <td>...</td>\n",
       "      <td>...</td>\n",
       "      <td>...</td>\n",
       "      <td>...</td>\n",
       "    </tr>\n",
       "    <tr>\n",
       "      <th>1463</th>\n",
       "      <td>Fully Upgraded | Motivated Seller | VOT</td>\n",
       "      <td>15,999,000</td>\n",
       "      <td>Mirador</td>\n",
       "      <td></td>\n",
       "    </tr>\n",
       "    <tr>\n",
       "      <th>1464</th>\n",
       "      <td>EXTERNAL MAIDS ROOM | ONE OF A KIND | 4E</td>\n",
       "      <td>4,375,000</td>\n",
       "      <td>The Springs 14</td>\n",
       "      <td></td>\n",
       "    </tr>\n",
       "    <tr>\n",
       "      <th>1465</th>\n",
       "      <td>Exclusive | Fully Upgraded and Extended</td>\n",
       "      <td>9,700,000</td>\n",
       "      <td>The Meadows 9</td>\n",
       "      <td></td>\n",
       "    </tr>\n",
       "    <tr>\n",
       "      <th>1466</th>\n",
       "      <td>Upgraded | VOT | Genuine Listing</td>\n",
       "      <td>3,050,000</td>\n",
       "      <td>Joy</td>\n",
       "      <td></td>\n",
       "    </tr>\n",
       "    <tr>\n",
       "      <th>1467</th>\n",
       "      <td>Fully Upgraded 4 Bed with Private Pool</td>\n",
       "      <td>10,000,000</td>\n",
       "      <td>The Meadows 9</td>\n",
       "      <td></td>\n",
       "    </tr>\n",
       "  </tbody>\n",
       "</table>\n",
       "<p>1468 rows × 4 columns</p>\n",
       "</div>"
      ],
      "text/plain": [
       "                                                  title       price  \\\n",
       "0     Sheikh Zayed Road View | 🏗️ Limited Availabili...     565,000   \n",
       "1     💫30/70 Plan | Furnished🛋️ Smart Home 🚧2026 Han...     935,000   \n",
       "2     🚇 Right next to Metro💰Lowest Price Ever 💳 Best...     599,000   \n",
       "3             Payment Plan | Large Layout | Golf Course   5,200,000   \n",
       "4      Vacant on Transfer | Fully Upgraded | Palm Views   2,875,000   \n",
       "...                                                 ...         ...   \n",
       "1463            Fully Upgraded | Motivated Seller | VOT  15,999,000   \n",
       "1464           EXTERNAL MAIDS ROOM | ONE OF A KIND | 4E   4,375,000   \n",
       "1465            Exclusive | Fully Upgraded and Extended   9,700,000   \n",
       "1466                   Upgraded | VOT | Genuine Listing   3,050,000   \n",
       "1467             Fully Upgraded 4 Bed with Private Pool  10,000,000   \n",
       "\n",
       "          building_name      area_name  \n",
       "0           Azizi Arian      Jebel Ali  \n",
       "1     Forest City Tower                 \n",
       "2           Azizi Arian      Jebel Ali  \n",
       "3      399 Hills Park B   Hills Estate  \n",
       "4        Princess Tower                 \n",
       "...                 ...            ...  \n",
       "1463            Mirador                 \n",
       "1464     The Springs 14                 \n",
       "1465      The Meadows 9                 \n",
       "1466                Joy                 \n",
       "1467      The Meadows 9                 \n",
       "\n",
       "[1468 rows x 4 columns]"
      ]
     },
     "execution_count": 46,
     "metadata": {},
     "output_type": "execute_result"
    }
   ],
   "source": [
    "import sqlite3\n",
    "\n",
    "conn = sqlite3.connect('real_estate.db')\n",
    "\n",
    "pd.read_sql(\"SELECT title, price, building_name, area_name FROM listings_buy;\", conn)\n",
    "#\n",
    "#conn.close()"
   ]
  },
  {
   "cell_type": "code",
   "execution_count": null,
   "metadata": {},
   "outputs": [],
   "source": []
  },
  {
   "cell_type": "code",
   "execution_count": null,
   "metadata": {},
   "outputs": [],
   "source": []
  },
  {
   "cell_type": "code",
   "execution_count": null,
   "metadata": {},
   "outputs": [],
   "source": [
    "# First, remove 'sqft' from the area column if present\n",
    "df_merged['area'] = df_merged['area'].str.replace('sqft', '', regex=False)\n",
    "\n",
    "# Remove any commas that might be in the numbers (e.g., \"1,500\")\n",
    "df_merged['area'] = df_merged['area'].str.replace(',', '', regex=False)\n",
    "\n",
    "# Strip any whitespace\n",
    "df_merged['area'] = df_merged['area'].str.strip()\n",
    "\n",
    "# Convert to float, coercing any errors to NaN\n",
    "df_merged['area'] = pd.to_numeric(df_merged['area'], errors='coerce')\n",
    "\n",
    "# Check the result\n",
    "print(df_merged['area'].dtype)\n",
    "df_merged['area'].head()"
   ]
  },
  {
   "cell_type": "code",
   "execution_count": null,
   "metadata": {},
   "outputs": [],
   "source": [
    "df_merged.info()"
   ]
  },
  {
   "cell_type": "code",
   "execution_count": null,
   "metadata": {},
   "outputs": [],
   "source": [
    "# Convert price to decimal (float)\n",
    "# First, remove any non-numeric characters (like commas and currency symbols)\n",
    "df_merged['price'] = df_merged['price'].str.replace(',', '', regex=False)\n",
    "df_merged['price'] = df_merged['price'].str.replace('AED', '', regex=False).str.strip()\n",
    "# Convert to float\n",
    "df_merged['price'] = pd.to_numeric(df_merged['price'], errors='coerce')\n",
    "\n",
    "# Convert beds to nullable integer\n",
    "# pandas uses Int64 type for nullable integers\n",
    "df_merged['beds'] = pd.to_numeric(df_merged['beds'], errors='coerce')\n",
    "df_merged['beds'] = df_merged['beds'].astype('Int64')  # Capital 'I' for nullable integer\n",
    "\n",
    "# Convert studio to nullable integer\n",
    "# First, map text values to numbers if needed (e.g., 'Y' to 1, 'N' to 0)\n",
    "# Assuming 'Y' means it's a studio and 'N' means it's not\n",
    "studio_mapping = {'Y': 1, 'N': 0}\n",
    "df_merged['studio'] = df_merged['studio'].map(studio_mapping)\n",
    "df_merged['studio'] = pd.to_numeric(df_merged['studio'], errors='coerce')\n",
    "df_merged['studio'] = df_merged['studio'].astype('Int64')\n",
    "\n",
    "# Convert baths to nullable integer\n",
    "df_merged['baths'] = pd.to_numeric(df_merged['baths'], errors='coerce')\n",
    "df_merged['baths'] = df_merged['baths'].astype('Int64')\n",
    "\n",
    "# Check the updated data types\n",
    "df_merged[['price', 'beds', 'studio', 'baths']].dtypes"
   ]
  },
  {
   "cell_type": "code",
   "execution_count": null,
   "metadata": {},
   "outputs": [],
   "source": [
    "df_merged.drop(columns=['verified_plan'],inplace=True)"
   ]
  }
 ],
 "metadata": {
  "kernelspec": {
   "display_name": "newenv",
   "language": "python",
   "name": "python3"
  },
  "language_info": {
   "codemirror_mode": {
    "name": "ipython",
    "version": 3
   },
   "file_extension": ".py",
   "mimetype": "text/x-python",
   "name": "python",
   "nbconvert_exporter": "python",
   "pygments_lexer": "ipython3",
   "version": "3.12.0"
  }
 },
 "nbformat": 4,
 "nbformat_minor": 2
}
